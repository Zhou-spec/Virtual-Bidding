{
 "cells": [
  {
   "cell_type": "code",
   "execution_count": 2479,
   "metadata": {},
   "outputs": [],
   "source": [
    "import numpy as np\n",
    "import pandas as pd\n",
    "import matplotlib.pyplot as plt\n",
    "%matplotlib ipympl\n",
    "\n",
    "Jan_return = pd.read_csv('Jan_return.csv')\n",
    "Aug_return = pd.read_csv('Aug_return.csv')\n",
    "Oct_return = pd.read_csv('Oct_return.csv')\n",
    "Jan_return = Jan_return.drop(['Unnamed: 0'], axis=1)\n",
    "Aug_return = Aug_return.drop(['Unnamed: 0'], axis=1)\n",
    "Oct_return = Oct_return.drop(['Unnamed: 0'], axis=1)\n",
    "Jan_predict_return = pd.read_csv('table_predict_return_Jan.csv')\n",
    "Aug_predict_return = pd.read_csv('table_predict_return_Aug.csv')\n",
    "Oct_predict_return = pd.read_csv('table_predict_return_Oct.csv')\n",
    "Jan_predict_return = Jan_predict_return.drop(['Unnamed: 0'], axis=1)\n",
    "Aug_predict_return = Aug_predict_return.drop(['Unnamed: 0'], axis=1)\n",
    "Oct_predict_return = Oct_predict_return.drop(['Unnamed: 0'], axis=1)\n",
    "#Jan_return = Jan_return.to_numpy()\n",
    "#Aug_return = Aug_return.to_numpy()\n",
    "#Oct_return = Oct_return.to_numpy()\n",
    "#Jan_predict_return = Jan_predict_return.to_numpy()\n",
    "#Aug_predict_return = Aug_predict_return.to_numpy()\n",
    "#Oct_predict_return = Oct_predict_return.to_numpy()"
   ]
  },
  {
   "cell_type": "code",
   "execution_count": 2480,
   "metadata": {},
   "outputs": [],
   "source": [
    "o = 9\n",
    "p = 1000\n",
    "q = 1200"
   ]
  },
  {
   "cell_type": "code",
   "execution_count": 2481,
   "metadata": {},
   "outputs": [],
   "source": [
    "\n",
    "Jan_return = (1 + Jan_return)** o - 1 \n",
    "Aug_return = ( Aug_return) * p\n",
    "Oct_return = (Oct_return) * q \n",
    "x = np.cov(Jan_return.to_numpy().T)\n",
    "y = np.cov(Aug_return.to_numpy().T)\n",
    "z = np.cov(Oct_return.to_numpy().T)"
   ]
  },
  {
   "cell_type": "code",
   "execution_count": 2482,
   "metadata": {},
   "outputs": [],
   "source": [
    "a = np.matmul(((1 + Jan_predict_return)**o -1).to_numpy(), np.linalg.inv(x))\n",
    "b = np.matmul((( Aug_predict_return)*p ).to_numpy(), np.linalg.inv(y))\n",
    "c = np.matmul(((Oct_predict_return)*q ).to_numpy(), np.linalg.inv(z))"
   ]
  },
  {
   "cell_type": "code",
   "execution_count": 2483,
   "metadata": {},
   "outputs": [],
   "source": [
    "new_a = np.zeros((a.shape[0],))\n",
    "new_b = np.zeros((b.shape[0],))\n",
    "new_c = np.zeros((c.shape[0],))\n",
    "for i in range(a.shape[0]):\n",
    "    new_a[i] = np.dot(a[i], a[i])\n",
    "\n",
    "for i in range(b.shape[0]):\n",
    "    new_b[i] = np.dot(b[i], b[i])\n",
    "\n",
    "for i in range(c.shape[0]):\n",
    "    new_c[i] = np.dot(c[i], c[i])\n",
    "\n"
   ]
  },
  {
   "cell_type": "code",
   "execution_count": 2484,
   "metadata": {},
   "outputs": [],
   "source": [
    "\"\"\"let the number larger than 1 be the avergae of the rest\"\"\"\n",
    "new_a[new_a > 1] = np.mean(new_a[new_a < 1])\n",
    "new_b[new_b > 1] = np.mean(new_b[new_b < 1])\n",
    "new_c[new_c > 1] = np.mean(new_c[new_c < 1])"
   ]
  },
  {
   "cell_type": "code",
   "execution_count": 2485,
   "metadata": {},
   "outputs": [
    {
     "name": "stdout",
     "output_type": "stream",
     "text": [
      "9.436324749653754e-06\n",
      "0.015121132150418255\n",
      "0.004796919141489741\n"
     ]
    }
   ],
   "source": [
    "print(new_a.mean())\n",
    "print(new_b.mean())\n",
    "print(new_c.mean())"
   ]
  },
  {
   "cell_type": "code",
   "execution_count": 2486,
   "metadata": {},
   "outputs": [],
   "source": [
    "\n",
    "date_a = np.linspace(30, 0, 671)\n",
    "date_b = np.linspace(30, 0, 623)\n",
    "date_c = np.linspace(30, 0, 647)"
   ]
  },
  {
   "cell_type": "code",
   "execution_count": 2487,
   "metadata": {},
   "outputs": [],
   "source": [
    "new_a = new_a[1:] * date_a\n",
    "new_b = new_b[1:] * date_b\n",
    "new_c = new_c[1:] * date_c\n",
    "\n",
    "\n",
    "a = np.exp(new_a)\n",
    "b = np.exp(new_b)\n",
    "c = np.exp(new_c)"
   ]
  },
  {
   "cell_type": "code",
   "execution_count": 2488,
   "metadata": {},
   "outputs": [],
   "source": [
    "gamma = 0.5\n",
    "\n",
    "policy_mean_coeff_Jan = -1 * np.matmul(np.matmul(np.linalg.inv(x), np.linalg.inv(x)), ((1 + Jan_predict_return)**o -1).to_numpy().T).T\n",
    "policy_mean_coeff_Aug = -1 * np.matmul(np.matmul(np.linalg.inv(y), np.linalg.inv(y)), ((Aug_predict_return)*p ).to_numpy().T).T\n",
    "policy_mean_coeff_Oct = -1 * np.matmul(np.matmul(np.linalg.inv(z), np.linalg.inv(z)), ((Oct_predict_return)*q ).to_numpy().T).T\n",
    "policy_mean_coeff_Jan = policy_mean_coeff_Jan[1:]\n",
    "policy_mean_coeff_Aug = policy_mean_coeff_Aug[1:]\n",
    "policy_mean_coeff_Oct = policy_mean_coeff_Oct[1:]\n",
    "\n",
    "policy_var_coeff_Jan = np.zeros((671, 9,9))\n",
    "policy_var_coeff_Aug = np.zeros((623, 9,9))\n",
    "policy_var_coeff_Oct = np.zeros((647, 9,9))\n",
    "\n",
    "for i in range(671):\n",
    "    policy_var_coeff_Jan[i] = 0.5 * gamma  * np.matmul(np.linalg.inv(x), np.linalg.inv(x)) * a[i]\n",
    "for i in range(623):\n",
    "    policy_var_coeff_Aug[i] = 0.5 * gamma  * np.matmul(np.linalg.inv(y), np.linalg.inv(y)) * b[i]\n",
    "for i in range(647):\n",
    "    policy_var_coeff_Oct[i] = 0.5 * gamma  * np.matmul(np.linalg.inv(z), np.linalg.inv(z)) * c[i]"
   ]
  },
  {
   "cell_type": "code",
   "execution_count": 2489,
   "metadata": {},
   "outputs": [
    {
     "data": {
      "text/plain": [
       "array([ 8.28393252e-14,  1.43343283e-14,  6.54227169e-10, -1.46206630e-09,\n",
       "        9.61202217e-10, -4.66585731e-10,  3.06247811e-10, -3.56217093e-13,\n",
       "       -9.32478022e-13])"
      ]
     },
     "execution_count": 2489,
     "metadata": {},
     "output_type": "execute_result"
    }
   ],
   "source": [
    "policy_mean_coeff_Jan[56]"
   ]
  },
  {
   "cell_type": "code",
   "execution_count": 2490,
   "metadata": {},
   "outputs": [
    {
     "data": {
      "text/plain": [
       "array([ 8.87465636e-05, -5.81296074e-06,  6.50479485e-07,  1.55057461e-06,\n",
       "       -1.33054549e-06, -3.96994461e-07,  2.81371604e-09, -8.51913551e-05,\n",
       "        2.54540591e-07])"
      ]
     },
     "execution_count": 2490,
     "metadata": {},
     "output_type": "execute_result"
    }
   ],
   "source": [
    "policy_mean_coeff_Aug[23]"
   ]
  },
  {
   "cell_type": "code",
   "execution_count": 2491,
   "metadata": {},
   "outputs": [
    {
     "data": {
      "text/plain": [
       "array([ 1.62309508e-06,  8.65569087e-06,  3.32180998e-05,  5.14898623e-05,\n",
       "       -8.59968601e-05, -4.16608381e-09, -1.38343079e-07, -1.32412671e-05,\n",
       "        3.10393175e-08])"
      ]
     },
     "execution_count": 2491,
     "metadata": {},
     "output_type": "execute_result"
    }
   ],
   "source": [
    "policy_mean_coeff_Oct[12]"
   ]
  },
  {
   "cell_type": "code",
   "execution_count": 2504,
   "metadata": {},
   "outputs": [],
   "source": [
    "Jan_wealth = [1]\n",
    "Aug_wealth = [1]\n",
    "Oct_wealth = [1]\n",
    "\n",
    "for i in range(671):\n",
    "    holdings = np.random.multivariate_normal(policy_mean_coeff_Jan[i] * (Jan_wealth[-1] - 1), policy_var_coeff_Jan[i])\n",
    "    \"\"\"if the absolute value of the holding is larger than 1, then set it to 0.5\"\"\"\n",
    "    holdings[abs(holdings) > 0.5] = 0\n",
    "    Jan_wealth.append(np.dot(holdings, Jan_return.iloc[i, :].to_numpy()) + Jan_wealth[-1])\n",
    "\n",
    "for i in range(623):\n",
    "    holdings = np.random.multivariate_normal(policy_mean_coeff_Aug[i] * (Aug_wealth[-1] - 1) , policy_var_coeff_Aug[i])\n",
    "    holdings[abs(holdings) > 0.5] = 0\n",
    "    profits = np.dot(holdings, Aug_return.iloc[i, :].to_numpy())\n",
    "    if abs(profits) < 1: #leverage is constrained, so if the profit is too high, it is due to the unusual electricity prices\n",
    "        Aug_wealth.append(profits + Aug_wealth[-1])\n",
    "    else:\n",
    "        Aug_wealth.append(Aug_wealth[-1])\n",
    "\n",
    "\n",
    "\n",
    "for i in range(647):   #647\n",
    "    holdings = np.random.multivariate_normal(policy_mean_coeff_Oct[i] * (Oct_wealth[-1] - 1), policy_var_coeff_Oct[i])\n",
    "    holdings[abs(holdings) > 0.5 ] = 0\n",
    "    profit = np.dot(holdings, Oct_return.iloc[i, :].to_numpy())\n",
    "    if abs(profit) < 1:\n",
    "        Oct_wealth.append(profit + Oct_wealth[-1])\n",
    "    else:\n",
    "        Oct_wealth.append(Oct_wealth[-1])\n",
    "\n",
    "\n",
    "#plt.figure(figsize=(10, 5))\n",
    "#plt.plot(Jan_wealth, label = 'Jan')\n",
    "#plt.show()\n",
    "\n",
    "#plt.figure(figsize=(10, 5))\n",
    "#plt.plot(Aug_wealth, label='Aug')\n",
    "#plt.show()\n",
    "#plt.savefig('Aug_wealth_second.png')\n",
    "\n",
    "\n",
    "#plt.figure(figsize=(10, 5))\n",
    "#plt.plot(Oct_wealth, label='Oct')\n",
    "#plt.show()\n",
    "#plt.savefig('Oct_wealth_second.png')\n"
   ]
  }
 ],
 "metadata": {
  "kernelspec": {
   "display_name": "pvlib",
   "language": "python",
   "name": "python3"
  },
  "language_info": {
   "codemirror_mode": {
    "name": "ipython",
    "version": 3
   },
   "file_extension": ".py",
   "mimetype": "text/x-python",
   "name": "python",
   "nbconvert_exporter": "python",
   "pygments_lexer": "ipython3",
   "version": "3.10.6 | packaged by conda-forge | (main, Aug 22 2022, 20:30:19) [MSC v.1929 64 bit (AMD64)]"
  },
  "orig_nbformat": 4,
  "vscode": {
   "interpreter": {
    "hash": "c75068bb80473314d9f1725f295377aac8aa161527292b6a02de186485fa0d79"
   }
  }
 },
 "nbformat": 4,
 "nbformat_minor": 2
}
