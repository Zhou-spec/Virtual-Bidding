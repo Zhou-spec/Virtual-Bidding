{
 "cells": [
  {
   "cell_type": "code",
   "execution_count": 148,
   "metadata": {},
   "outputs": [],
   "source": [
    "import numpy as np\n",
    "import pandas as pd\n",
    "import matplotlib.pyplot as plt\n",
    "%matplotlib ipympl\n",
    "\n",
    "Jan_return = pd.read_csv('Jan_return.csv')\n",
    "Aug_return = pd.read_csv('Aug_return.csv')\n",
    "Oct_return = pd.read_csv('Oct_return.csv')\n",
    "Jan_return = Jan_return.drop(['Unnamed: 0'], axis=1)\n",
    "Aug_return = Aug_return.drop(['Unnamed: 0'], axis=1)\n",
    "Oct_return = Oct_return.drop(['Unnamed: 0'], axis=1)\n",
    "Jan_predict_return = pd.read_csv('table_predict_return_Jan.csv')\n",
    "Aug_predict_return = pd.read_csv('table_predict_return_Aug.csv')\n",
    "Oct_predict_return = pd.read_csv('table_predict_return_Oct.csv')\n",
    "Jan_predict_return = Jan_predict_return.drop(['Unnamed: 0'], axis=1)\n",
    "Aug_predict_return = Aug_predict_return.drop(['Unnamed: 0'], axis=1)\n",
    "Oct_predict_return = Oct_predict_return.drop(['Unnamed: 0'], axis=1)\n",
    "\n",
    "\"\"\"replace returns with abs moret han 0.5 by 0\"\"\"\n",
    "Jan_return[Jan_return > 0.5] = 0.01\n",
    "Aug_return[Aug_return > 0.5] = 0.01\n",
    "Oct_return[Oct_return > 0.5] = 0.01\n",
    "Jan_return[Jan_return < -0.5] = 0.01\n",
    "Aug_return[Aug_return < -0.5] = 0.01\n",
    "Oct_return[Oct_return < -0.5] = 0.01\n"
   ]
  },
  {
   "cell_type": "code",
   "execution_count": 149,
   "metadata": {},
   "outputs": [],
   "source": [
    "\n",
    "x = Jan_return.cov().to_numpy()\n",
    "y = Aug_return.cov().to_numpy() \n",
    "z = Oct_return.cov().to_numpy() \n",
    "a = np.matmul(np.matmul(Jan_return.to_numpy(), np.linalg.inv(x)), Jan_return.to_numpy().T)\n",
    "b = np.matmul(np.matmul(Aug_return.to_numpy(), np.linalg.inv(y)), Aug_return.to_numpy().T)\n",
    "c = np.matmul(np.matmul(Oct_return.to_numpy(), np.linalg.inv(z)), Oct_return.to_numpy().T)\n",
    "\n",
    "\"\"\"get the diagonal of a, b, c\"\"\"\n",
    "\n",
    "a = np.diag(a)\n",
    "b = np.diag(b)\n",
    "c = np.diag(c)\n",
    "\n",
    "\n",
    "new_a = np.zeros((a.shape[0],))\n",
    "new_b = np.zeros((b.shape[0],))\n",
    "new_c = np.zeros((c.shape[0],))\n"
   ]
  },
  {
   "cell_type": "code",
   "execution_count": 150,
   "metadata": {},
   "outputs": [],
   "source": [
    "\n",
    "date_a = np.linspace(1/12, 0, 671)\n",
    "date_b = np.linspace(1/12, 0, 623)\n",
    "date_c = np.linspace(1/12, 0, 647)\n",
    "new_a = a[1:] * date_a\n",
    "new_b = b[1:] * date_b\n",
    "new_c = c[1:] * date_c"
   ]
  },
  {
   "cell_type": "code",
   "execution_count": 151,
   "metadata": {},
   "outputs": [],
   "source": [
    "origin_a = a\n",
    "origin_b = b\n",
    "origin_c = c\n",
    "a = np.exp(new_a)\n",
    "b = np.exp(new_b)\n",
    "c = np.exp(new_c)"
   ]
  },
  {
   "cell_type": "code",
   "execution_count": 152,
   "metadata": {},
   "outputs": [],
   "source": [
    "gamma = 0.001\n",
    "\n",
    "policy_mean_coeff_Jan = -1 * np.matmul(np.linalg.inv(x) / 671, Jan_return.to_numpy().T).T\n",
    "policy_mean_coeff_Aug = -1 * np.matmul(np.linalg.inv(y) / 623, Aug_return.to_numpy().T).T\n",
    "policy_mean_coeff_Oct = -1 * np.matmul(np.linalg.inv(z) / 647, Oct_return.to_numpy().T).T\n",
    "policy_mean_coeff_Jan = policy_mean_coeff_Jan[1:]\n",
    "policy_mean_coeff_Aug = policy_mean_coeff_Aug[1:]\n",
    "policy_mean_coeff_Oct = policy_mean_coeff_Oct[1:]\n",
    "\n",
    "policy_var_coeff_Jan = np.zeros((671, 9,9))\n",
    "policy_var_coeff_Aug = np.zeros((623, 9,9))\n",
    "policy_var_coeff_Oct = np.zeros((647, 9,9))\n",
    "\n",
    "\n",
    "for i in range(671):\n",
    "    policy_var_coeff_Jan[i] = 0.5 * gamma  * np.linalg.inv(x) * a[i]\n",
    "for i in range(623):\n",
    "    policy_var_coeff_Aug[i] = 0.5 * gamma  * np.linalg.inv(y) * b[i]\n",
    "for i in range(647):\n",
    "    policy_var_coeff_Oct[i] = 0.5 * gamma  * np.linalg.inv(z) * c[i]\n",
    "\n",
    "x_0 = 100\n",
    "z = 105\n",
    "Jan_wealth = [x_0]\n",
    "Aug_wealth = [x_0]\n",
    "Oct_wealth = [x_0]\n",
    "for i in range(671):\n",
    "    holdings = np.random.multivariate_normal(policy_mean_coeff_Jan[i] * (Jan_wealth[-1] - (z * np.exp(origin_a[i]/12) - x_0) / (np.exp(origin_a[i] / 12) - 1)), policy_var_coeff_Jan[i])\n",
    "    profits = np.dot(holdings, Jan_return.iloc[i, :].to_numpy())\n",
    "    Jan_wealth.append(profits + Jan_wealth[-1])\n",
    "        \n",
    "\n",
    "for i in range(623):\n",
    "    holdings = np.random.multivariate_normal(policy_mean_coeff_Aug[i] * (Aug_wealth[-1] - (z * np.exp(origin_b[i]/12) - x_0) / (np.exp(origin_b[i] / 12) - 1)) , policy_var_coeff_Aug[i])\n",
    "    profits = np.dot(holdings, Aug_return.iloc[i, :].to_numpy())\n",
    "    Aug_wealth.append(profits + Aug_wealth[-1])\n",
    "\n",
    "\n",
    "for i in range(647):   #647\n",
    "    holdings = np.random.multivariate_normal(policy_mean_coeff_Oct[i] * (Oct_wealth[-1] - (z * np.exp(origin_c[i]/12) - x_0) / (np.exp(origin_c[i] / 12) - 1)), policy_var_coeff_Oct[i])\n",
    "    profit = np.dot(holdings, Oct_return.iloc[i, :].to_numpy())\n",
    "    print(profit)\n",
    "    Oct_wealth.append(profit + Oct_wealth[-1])\n",
    "    \n",
    "\n",
    "\n",
    "plt.figure(figsize=(10, 5))\n",
    "plt.plot(Jan_wealth, label = 'Jan')\n",
    "plt.show()\n",
    "#plt.savefig('Jan_wealth_second.png')\n",
    "\n",
    "plt.figure(figsize=(10, 5))\n",
    "plt.plot(Aug_wealth, label='Aug')\n",
    "plt.show()\n",
    "#plt.savefig('Aug_wealth_second.png')\n",
    "\n",
    "\n",
    "plt.figure(figsize=(10, 5))\n",
    "plt.plot(Oct_wealth, label='Oct')\n",
    "plt.show()\n",
    "#plt.savefig('Oct_wealth_second.png')"
   ]
  }
 ],
 "metadata": {
  "kernelspec": {
   "display_name": "pvlib",
   "language": "python",
   "name": "python3"
  },
  "language_info": {
   "codemirror_mode": {
    "name": "ipython",
    "version": 3
   },
   "file_extension": ".py",
   "mimetype": "text/x-python",
   "name": "python",
   "nbconvert_exporter": "python",
   "pygments_lexer": "ipython3",
   "version": "3.10.6"
  },
  "orig_nbformat": 4,
  "vscode": {
   "interpreter": {
    "hash": "c75068bb80473314d9f1725f295377aac8aa161527292b6a02de186485fa0d79"
   }
  }
 },
 "nbformat": 4,
 "nbformat_minor": 2
}
