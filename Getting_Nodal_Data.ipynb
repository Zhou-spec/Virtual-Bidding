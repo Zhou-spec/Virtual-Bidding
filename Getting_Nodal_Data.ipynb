{
 "cells": [
  {
   "cell_type": "code",
   "execution_count": 3,
   "metadata": {},
   "outputs": [],
   "source": [
    "import isodata\n",
    "import pandas as pd\n",
    "import numpy as np\n"
   ]
  },
  {
   "cell_type": "code",
   "execution_count": 4,
   "metadata": {},
   "outputs": [],
   "source": [
    "iso = isodata.CAISO()\n",
    "d = iso.get_pnodes() "
   ]
  },
  {
   "cell_type": "code",
   "execution_count": 5,
   "metadata": {},
   "outputs": [],
   "source": [
    "node_list = ['ALTA1G_7_B1',\n",
    " 'BIGCRK3_2_B1',\n",
    " 'C493GEN_7_N003',\n",
    " 'CUYAMAGN_7_N001',\n",
    " 'IBM-CTLE_1_N002',\n",
    " 'JESSUP_1_GN001',\n",
    " 'KANAKAJT_1_B1',\n",
    " 'KEARNY_7_GNU1N',\n",
    " 'LBEACH1G_7_N001',\n",
    " 'MECCTG2_7_B2',\n",
    " 'MILPITAS_1_N001',\n",
    " 'REDMGEN_7_N003',\n",
    " 'RENFRO_1_N001',\n",
    " 'SHELL3_7_B2',\n",
    " 'SPIJCT_6_B1',\n",
    " 'TOT210S1_7_N002',\n",
    " 'TULLOCH_7_B2',\n",
    " 'VACA-DIX_1_B1',\n",
    " 'WISE1_7_B1']"
   ]
  },
  {
   "cell_type": "code",
   "execution_count": 6,
   "metadata": {},
   "outputs": [],
   "source": [
    "\n",
    "day_ahead_data_Jan = iso.get_historical_lmp(date = 'Jan 1, 2022', market = 'DAY_AHEAD_HOURLY', locations = node_list, end = 'Jan 31, 2022')\n",
    "day_ahead_data_Aug = iso.get_historical_lmp(date = 'Aug 1, 2022', market = 'DAY_AHEAD_HOURLY', locations = node_list, end = 'Aug 31, 2022')\n",
    "day_ahead_data_Oct = iso.get_historical_lmp(date = 'Oct 1, 2022', market = 'DAY_AHEAD_HOURLY', locations = node_list, end = 'Oct 30, 2022')\n"
   ]
  },
  {
   "cell_type": "code",
   "execution_count": 6,
   "metadata": {},
   "outputs": [],
   "source": [
    "day_ahead_data_Jan = day_ahead_data_Jan[['Time', 'Location', 'LMP']]\n",
    "day_ahead_data_Aug = day_ahead_data_Aug[['Time', 'Location', 'LMP']]\n",
    "day_ahead_data_Oct = day_ahead_data_Oct[['Time', 'Location', 'LMP']]"
   ]
  },
  {
   "cell_type": "code",
   "execution_count": 7,
   "metadata": {},
   "outputs": [],
   "source": [
    "\"\"\"let Time be the index\"\"\"\n",
    "day_ahead_data_Jan = day_ahead_data_Jan.set_index('Time')\n",
    "day_ahead_data_Aug = day_ahead_data_Aug.set_index('Time')\n",
    "day_ahead_data_Oct = day_ahead_data_Oct.set_index('Time')"
   ]
  },
  {
   "cell_type": "code",
   "execution_count": 8,
   "metadata": {},
   "outputs": [],
   "source": [
    "day_ahead_data_Jan.to_csv('day_ahead_data_Jan.csv')\n",
    "day_ahead_data_Aug.to_csv('day_ahead_data_Aug.csv')\n",
    "day_ahead_data_Oct.to_csv('day_ahead_data_Oct.csv')\n"
   ]
  },
  {
   "cell_type": "code",
   "execution_count": 9,
   "metadata": {},
   "outputs": [],
   "source": [
    "node_list = ['ALTA1G_7_B1','TOT210S1_7_N002','MILPITAS_1_N001','C493GEN_7_N003','SHELL3_7_B2','WISE1_7_B1','IBM-CTLE_1_N002','JESSUP_1_GN001','CUYAMAGN_7_N001','KEARNY_7_GNU1N','MECCTG2_7_B2','VACA-DIX_1_B1','BIGCRK3_2_B1','REDMGEN_7_N003','LBEACH1G_7_N001','TULLOCH_7_B2','KANAKAJT_1_B1','SPIJCT_6_B1','RENFRO_1_N001']"
   ]
  },
  {
   "cell_type": "code",
   "execution_count": 10,
   "metadata": {},
   "outputs": [],
   "source": [
    "real_time_data_Jan = iso.get_historical_lmp(date = 'Jan 1, 2022', market = 'REAL_TIME_HOURLY', locations = node_list, end = 'Jan 31, 2022')\n",
    "real_time_data_Aug = iso.get_historical_lmp(date = 'Aug 1, 2022', market = 'REAL_TIME_HOURLY', locations = node_list, end = 'Aug 31, 2022')\n",
    "real_time_data_Oct = iso.get_historical_lmp(date = 'Oct 1, 2022', market = 'REAL_TIME_HOURLY', locations = node_list, end = 'Oct 30, 2022')"
   ]
  },
  {
   "cell_type": "code",
   "execution_count": 11,
   "metadata": {},
   "outputs": [],
   "source": [
    "real_time_data_Aug = real_time_data_Aug[['Time', 'Location', 'LMP']]\n",
    "real_time_data_Jan = real_time_data_Jan[['Time', 'Location', 'LMP']]\n",
    "real_time_data_Oct = real_time_data_Oct[['Time', 'Location', 'LMP']]\n",
    "real_time_data_Jan = real_time_data_Jan.set_index('Time')\n",
    "real_time_data_Aug = real_time_data_Aug.set_index('Time')\n",
    "real_time_data_Oct = real_time_data_Oct.set_index('Time')\n",
    "\n",
    "real_time_data_Jan.to_csv('real_time_data_Jan.csv')\n",
    "real_time_data_Aug.to_csv('real_time_data_Aug.csv')\n",
    "real_time_data_Oct.to_csv('real_time_data_Oct.csv')\n"
   ]
  }
 ],
 "metadata": {
  "kernelspec": {
   "display_name": "pvlib",
   "language": "python",
   "name": "python3"
  },
  "language_info": {
   "codemirror_mode": {
    "name": "ipython",
    "version": 3
   },
   "file_extension": ".py",
   "mimetype": "text/x-python",
   "name": "python",
   "nbconvert_exporter": "python",
   "pygments_lexer": "ipython3",
   "version": "3.10.6"
  },
  "orig_nbformat": 4,
  "vscode": {
   "interpreter": {
    "hash": "c75068bb80473314d9f1725f295377aac8aa161527292b6a02de186485fa0d79"
   }
  }
 },
 "nbformat": 4,
 "nbformat_minor": 2
}
